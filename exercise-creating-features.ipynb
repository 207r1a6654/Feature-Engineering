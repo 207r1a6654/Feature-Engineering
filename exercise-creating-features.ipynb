{
 "cells": [
  {
   "cell_type": "markdown",
   "id": "d6a07e86",
   "metadata": {
    "papermill": {
     "duration": 0.00678,
     "end_time": "2023-01-15T18:02:57.871940",
     "exception": false,
     "start_time": "2023-01-15T18:02:57.865160",
     "status": "completed"
    },
    "tags": []
   },
   "source": [
    "**This notebook is an exercise in the [Feature Engineering](https://www.kaggle.com/learn/feature-engineering) course.  You can reference the tutorial at [this link](https://www.kaggle.com/ryanholbrook/creating-features).**\n",
    "\n",
    "---\n"
   ]
  },
  {
   "cell_type": "markdown",
   "id": "d96b53fb",
   "metadata": {
    "papermill": {
     "duration": 0.005337,
     "end_time": "2023-01-15T18:02:57.883170",
     "exception": false,
     "start_time": "2023-01-15T18:02:57.877833",
     "status": "completed"
    },
    "tags": []
   },
   "source": [
    "# Introduction #\n",
    "\n",
    "In this exercise you'll start developing the features you identified in Exercise 2 as having the most potential. As you work through this exercise, you might take a moment to look at the data documentation again and consider whether the features we're creating make sense from a real-world perspective, and whether there are any useful combinations that stand out to you.\n",
    "\n",
    "Run this cell to set everything up!"
   ]
  },
  {
   "cell_type": "code",
   "execution_count": 1,
   "id": "a4d85238",
   "metadata": {
    "execution": {
     "iopub.execute_input": "2023-01-15T18:02:57.896554Z",
     "iopub.status.busy": "2023-01-15T18:02:57.896061Z",
     "iopub.status.idle": "2023-01-15T18:02:59.179595Z",
     "shell.execute_reply": "2023-01-15T18:02:59.178278Z"
    },
    "papermill": {
     "duration": 1.293518,
     "end_time": "2023-01-15T18:02:59.182458",
     "exception": false,
     "start_time": "2023-01-15T18:02:57.888940",
     "status": "completed"
    },
    "tags": []
   },
   "outputs": [],
   "source": [
    "# Setup feedback system\n",
    "from learntools.core import binder\n",
    "binder.bind(globals())\n",
    "from learntools.feature_engineering_new.ex3 import *\n",
    "\n",
    "import numpy as np\n",
    "import pandas as pd\n",
    "from sklearn.model_selection import cross_val_score\n",
    "from xgboost import XGBRegressor\n",
    "\n",
    "\n",
    "def score_dataset(X, y, model=XGBRegressor()):\n",
    "    # Label encoding for categoricals\n",
    "    for colname in X.select_dtypes([\"category\", \"object\"]):\n",
    "        X[colname], _ = X[colname].factorize()\n",
    "    # Metric for Housing competition is RMSLE (Root Mean Squared Log Error)\n",
    "    score = cross_val_score(\n",
    "        model, X, y, cv=5, scoring=\"neg_mean_squared_log_error\",\n",
    "    )\n",
    "    score = -1 * score.mean()\n",
    "    score = np.sqrt(score)\n",
    "    return score\n",
    "\n",
    "\n",
    "# Prepare data\n",
    "df = pd.read_csv(\"../input/fe-course-data/ames.csv\")\n",
    "X = df.copy()\n",
    "y = X.pop(\"SalePrice\")"
   ]
  },
  {
   "cell_type": "markdown",
   "id": "5d02021e",
   "metadata": {
    "papermill": {
     "duration": 0.00547,
     "end_time": "2023-01-15T18:02:59.193973",
     "exception": false,
     "start_time": "2023-01-15T18:02:59.188503",
     "status": "completed"
    },
    "tags": []
   },
   "source": [
    "-------------------------------------------------------------------------------\n",
    "\n",
    "Let's start with a few mathematical combinations. We'll focus on features describing areas -- having the same units (square-feet) makes it easy to combine them in sensible ways. Since we're using XGBoost (a tree-based model), we'll focus on ratios and sums.\n",
    "\n",
    "# 1) Create Mathematical Transforms\n",
    "\n",
    "Create the following features:\n",
    "\n",
    "- `LivLotRatio`: the ratio of `GrLivArea` to `LotArea`\n",
    "- `Spaciousness`: the sum of `FirstFlrSF` and `SecondFlrSF` divided by `TotRmsAbvGrd`\n",
    "- `TotalOutsideSF`: the sum of `WoodDeckSF`, `OpenPorchSF`, `EnclosedPorch`, `Threeseasonporch`, and `ScreenPorch`"
   ]
  },
  {
   "cell_type": "code",
   "execution_count": 2,
   "id": "11445b13",
   "metadata": {
    "execution": {
     "iopub.execute_input": "2023-01-15T18:02:59.207702Z",
     "iopub.status.busy": "2023-01-15T18:02:59.207056Z",
     "iopub.status.idle": "2023-01-15T18:02:59.231973Z",
     "shell.execute_reply": "2023-01-15T18:02:59.230824Z"
    },
    "lines_to_next_cell": 0,
    "papermill": {
     "duration": 0.034885,
     "end_time": "2023-01-15T18:02:59.234668",
     "exception": false,
     "start_time": "2023-01-15T18:02:59.199783",
     "status": "completed"
    },
    "tags": []
   },
   "outputs": [
    {
     "data": {
      "application/javascript": [
       "parent.postMessage({\"jupyterEvent\": \"custom.exercise_interaction\", \"data\": {\"outcomeType\": 1, \"valueTowardsCompletion\": 0.2, \"interactionType\": 1, \"questionType\": 2, \"questionId\": \"1_Q1\", \"learnToolsVersion\": \"0.3.4\", \"failureMessage\": \"\", \"exceptionClass\": \"\", \"trace\": \"\"}}, \"*\")"
      ],
      "text/plain": [
       "<IPython.core.display.Javascript object>"
      ]
     },
     "metadata": {},
     "output_type": "display_data"
    },
    {
     "data": {
      "text/markdown": [
       "<span style=\"color:#33cc33\">Correct</span>"
      ],
      "text/plain": [
       "Correct"
      ]
     },
     "metadata": {},
     "output_type": "display_data"
    }
   ],
   "source": [
    "# YOUR CODE HERE\n",
    "X_1 = pd.DataFrame()  # dataframe to hold new features\n",
    "\n",
    "X_1[\"LivLotRatio\"] = df.GrLivArea / df.LotArea\n",
    "X_1[\"Spaciousness\"] = (df.FirstFlrSF + df.SecondFlrSF) / df.TotRmsAbvGrd\n",
    "X_1[\"TotalOutsideSF\"] = df.WoodDeckSF + df.OpenPorchSF + df.EnclosedPorch + df.Threeseasonporch + df.ScreenPorch\n",
    "\n",
    "# Check your answer\n",
    "q_1.check()"
   ]
  },
  {
   "cell_type": "code",
   "execution_count": 3,
   "id": "4bb108c4",
   "metadata": {
    "execution": {
     "iopub.execute_input": "2023-01-15T18:02:59.248768Z",
     "iopub.status.busy": "2023-01-15T18:02:59.248132Z",
     "iopub.status.idle": "2023-01-15T18:02:59.252533Z",
     "shell.execute_reply": "2023-01-15T18:02:59.251417Z"
    },
    "lines_to_next_cell": 0,
    "papermill": {
     "duration": 0.01409,
     "end_time": "2023-01-15T18:02:59.254916",
     "exception": false,
     "start_time": "2023-01-15T18:02:59.240826",
     "status": "completed"
    },
    "tags": []
   },
   "outputs": [],
   "source": [
    "# Lines below will give you a hint or solution code\n",
    "#q_1.hint()\n",
    "#q_1.solution()"
   ]
  },
  {
   "cell_type": "markdown",
   "id": "66d4a9d4",
   "metadata": {
    "papermill": {
     "duration": 0.005639,
     "end_time": "2023-01-15T18:02:59.266626",
     "exception": false,
     "start_time": "2023-01-15T18:02:59.260987",
     "status": "completed"
    },
    "tags": []
   },
   "source": [
    "-------------------------------------------------------------------------------\n",
    "\n",
    "If you've discovered an interaction effect between a numeric feature and a categorical feature, you might want to model it explicitly using a one-hot encoding, like so:\n",
    "\n",
    "```\n",
    "# One-hot encode Categorical feature, adding a column prefix \"Cat\"\n",
    "X_new = pd.get_dummies(df.Categorical, prefix=\"Cat\")\n",
    "\n",
    "# Multiply row-by-row\n",
    "X_new = X_new.mul(df.Continuous, axis=0)\n",
    "\n",
    "# Join the new features to the feature set\n",
    "X = X.join(X_new)\n",
    "```\n",
    "\n",
    "# 2) Interaction with a Categorical\n",
    "\n",
    "We discovered an interaction between `BldgType` and `GrLivArea` in Exercise 2. Now create their interaction features."
   ]
  },
  {
   "cell_type": "code",
   "execution_count": 4,
   "id": "78417e51",
   "metadata": {
    "execution": {
     "iopub.execute_input": "2023-01-15T18:02:59.280404Z",
     "iopub.status.busy": "2023-01-15T18:02:59.279781Z",
     "iopub.status.idle": "2023-01-15T18:02:59.294411Z",
     "shell.execute_reply": "2023-01-15T18:02:59.293311Z"
    },
    "lines_to_next_cell": 0,
    "papermill": {
     "duration": 0.024224,
     "end_time": "2023-01-15T18:02:59.296684",
     "exception": false,
     "start_time": "2023-01-15T18:02:59.272460",
     "status": "completed"
    },
    "tags": []
   },
   "outputs": [
    {
     "data": {
      "application/javascript": [
       "parent.postMessage({\"jupyterEvent\": \"custom.exercise_interaction\", \"data\": {\"outcomeType\": 1, \"valueTowardsCompletion\": 0.2, \"interactionType\": 1, \"questionType\": 2, \"questionId\": \"2_Q2\", \"learnToolsVersion\": \"0.3.4\", \"failureMessage\": \"\", \"exceptionClass\": \"\", \"trace\": \"\"}}, \"*\")"
      ],
      "text/plain": [
       "<IPython.core.display.Javascript object>"
      ]
     },
     "metadata": {},
     "output_type": "display_data"
    },
    {
     "data": {
      "text/markdown": [
       "<span style=\"color:#33cc33\">Correct</span>"
      ],
      "text/plain": [
       "Correct"
      ]
     },
     "metadata": {},
     "output_type": "display_data"
    }
   ],
   "source": [
    "# YOUR CODE HERE\n",
    "# One-hot encode BldgType. Use `prefix=\"Bldg\"` in `get_dummies`\n",
    "X_2 = pd.get_dummies(df.BldgType, prefix=\"Bldg\") \n",
    "# Multiply\n",
    "X_2 = X_2.mul(df.GrLivArea, axis=0)\n",
    "\n",
    "\n",
    "# Check your answer\n",
    "q_2.check()"
   ]
  },
  {
   "cell_type": "code",
   "execution_count": 5,
   "id": "d32f34eb",
   "metadata": {
    "execution": {
     "iopub.execute_input": "2023-01-15T18:02:59.313064Z",
     "iopub.status.busy": "2023-01-15T18:02:59.312354Z",
     "iopub.status.idle": "2023-01-15T18:02:59.316227Z",
     "shell.execute_reply": "2023-01-15T18:02:59.315410Z"
    },
    "lines_to_next_cell": 0,
    "papermill": {
     "duration": 0.013657,
     "end_time": "2023-01-15T18:02:59.318312",
     "exception": false,
     "start_time": "2023-01-15T18:02:59.304655",
     "status": "completed"
    },
    "tags": []
   },
   "outputs": [],
   "source": [
    "# Lines below will give you a hint or solution code\n",
    "#q_2.hint()\n",
    "#q_2.solution()"
   ]
  },
  {
   "cell_type": "markdown",
   "id": "404e09ec",
   "metadata": {
    "lines_to_next_cell": 0,
    "papermill": {
     "duration": 0.006073,
     "end_time": "2023-01-15T18:02:59.330910",
     "exception": false,
     "start_time": "2023-01-15T18:02:59.324837",
     "status": "completed"
    },
    "tags": []
   },
   "source": [
    "# 3) Count Feature\n",
    "\n",
    "Let's try creating a feature that describes how many kinds of outdoor areas a dwelling has. Create a feature `PorchTypes` that counts how many of the following are greater than 0.0:\n",
    "\n",
    "```\n",
    "WoodDeckSF\n",
    "OpenPorchSF\n",
    "EnclosedPorch\n",
    "Threeseasonporch\n",
    "ScreenPorch\n",
    "```"
   ]
  },
  {
   "cell_type": "code",
   "execution_count": 6,
   "id": "cfa74c19",
   "metadata": {
    "execution": {
     "iopub.execute_input": "2023-01-15T18:02:59.345626Z",
     "iopub.status.busy": "2023-01-15T18:02:59.344909Z",
     "iopub.status.idle": "2023-01-15T18:02:59.361483Z",
     "shell.execute_reply": "2023-01-15T18:02:59.360474Z"
    },
    "lines_to_next_cell": 0,
    "papermill": {
     "duration": 0.026378,
     "end_time": "2023-01-15T18:02:59.363615",
     "exception": false,
     "start_time": "2023-01-15T18:02:59.337237",
     "status": "completed"
    },
    "tags": []
   },
   "outputs": [
    {
     "data": {
      "application/javascript": [
       "parent.postMessage({\"jupyterEvent\": \"custom.exercise_interaction\", \"data\": {\"outcomeType\": 1, \"valueTowardsCompletion\": 0.2, \"interactionType\": 1, \"questionType\": 2, \"questionId\": \"3_Q3\", \"learnToolsVersion\": \"0.3.4\", \"failureMessage\": \"\", \"exceptionClass\": \"\", \"trace\": \"\"}}, \"*\")"
      ],
      "text/plain": [
       "<IPython.core.display.Javascript object>"
      ]
     },
     "metadata": {},
     "output_type": "display_data"
    },
    {
     "data": {
      "text/markdown": [
       "<span style=\"color:#33cc33\">Correct</span>"
      ],
      "text/plain": [
       "Correct"
      ]
     },
     "metadata": {},
     "output_type": "display_data"
    }
   ],
   "source": [
    "X_3 = pd.DataFrame()\n",
    "\n",
    "# YOUR CODE HERE\n",
    "X_3[\"PorchTypes\"] = df[[\n",
    "    \"WoodDeckSF\",\n",
    "    \"OpenPorchSF\",\n",
    "    \"EnclosedPorch\",\n",
    "    \"Threeseasonporch\",\n",
    "    \"ScreenPorch\",\n",
    "]].gt(0.0).sum(axis=1)\n",
    "\n",
    "\n",
    "# Check your answer\n",
    "q_3.check()"
   ]
  },
  {
   "cell_type": "code",
   "execution_count": 7,
   "id": "3fd750a3",
   "metadata": {
    "execution": {
     "iopub.execute_input": "2023-01-15T18:02:59.378548Z",
     "iopub.status.busy": "2023-01-15T18:02:59.377841Z",
     "iopub.status.idle": "2023-01-15T18:02:59.381583Z",
     "shell.execute_reply": "2023-01-15T18:02:59.380849Z"
    },
    "lines_to_next_cell": 0,
    "papermill": {
     "duration": 0.013777,
     "end_time": "2023-01-15T18:02:59.383607",
     "exception": false,
     "start_time": "2023-01-15T18:02:59.369830",
     "status": "completed"
    },
    "tags": []
   },
   "outputs": [],
   "source": [
    "# Lines below will give you a hint or solution code\n",
    "#q_3.hint()\n",
    "#q_3.solution()"
   ]
  },
  {
   "cell_type": "markdown",
   "id": "96d9d45f",
   "metadata": {
    "papermill": {
     "duration": 0.005898,
     "end_time": "2023-01-15T18:02:59.395851",
     "exception": false,
     "start_time": "2023-01-15T18:02:59.389953",
     "status": "completed"
    },
    "tags": []
   },
   "source": [
    "# 4) Break Down a Categorical Feature\n",
    "\n",
    "`MSSubClass` describes the type of a dwelling:"
   ]
  },
  {
   "cell_type": "code",
   "execution_count": 8,
   "id": "18bcabc5",
   "metadata": {
    "execution": {
     "iopub.execute_input": "2023-01-15T18:02:59.410036Z",
     "iopub.status.busy": "2023-01-15T18:02:59.409573Z",
     "iopub.status.idle": "2023-01-15T18:02:59.417501Z",
     "shell.execute_reply": "2023-01-15T18:02:59.416532Z"
    },
    "papermill": {
     "duration": 0.017986,
     "end_time": "2023-01-15T18:02:59.420039",
     "exception": false,
     "start_time": "2023-01-15T18:02:59.402053",
     "status": "completed"
    },
    "tags": []
   },
   "outputs": [
    {
     "data": {
      "text/plain": [
       "array(['One_Story_1946_and_Newer_All_Styles', 'Two_Story_1946_and_Newer',\n",
       "       'One_Story_PUD_1946_and_Newer',\n",
       "       'One_and_Half_Story_Finished_All_Ages', 'Split_Foyer',\n",
       "       'Two_Story_PUD_1946_and_Newer', 'Split_or_Multilevel',\n",
       "       'One_Story_1945_and_Older', 'Duplex_All_Styles_and_Ages',\n",
       "       'Two_Family_conversion_All_Styles_and_Ages',\n",
       "       'One_and_Half_Story_Unfinished_All_Ages',\n",
       "       'Two_Story_1945_and_Older', 'Two_and_Half_Story_All_Ages',\n",
       "       'One_Story_with_Finished_Attic_All_Ages',\n",
       "       'PUD_Multilevel_Split_Level_Foyer',\n",
       "       'One_and_Half_Story_PUD_All_Ages'], dtype=object)"
      ]
     },
     "execution_count": 8,
     "metadata": {},
     "output_type": "execute_result"
    }
   ],
   "source": [
    "df.MSSubClass.unique()"
   ]
  },
  {
   "cell_type": "markdown",
   "id": "0118f3b0",
   "metadata": {
    "papermill": {
     "duration": 0.005997,
     "end_time": "2023-01-15T18:02:59.432479",
     "exception": false,
     "start_time": "2023-01-15T18:02:59.426482",
     "status": "completed"
    },
    "tags": []
   },
   "source": [
    "You can see that there is a more general categorization described (roughly) by the first word of each category. Create a feature containing only these first words by splitting `MSSubClass` at the first underscore `_`. (Hint: In the `split` method use an argument `n=1`.)"
   ]
  },
  {
   "cell_type": "code",
   "execution_count": 9,
   "id": "215c29b6",
   "metadata": {
    "execution": {
     "iopub.execute_input": "2023-01-15T18:02:59.446942Z",
     "iopub.status.busy": "2023-01-15T18:02:59.446534Z",
     "iopub.status.idle": "2023-01-15T18:02:59.472474Z",
     "shell.execute_reply": "2023-01-15T18:02:59.471367Z"
    },
    "lines_to_next_cell": 0,
    "papermill": {
     "duration": 0.035946,
     "end_time": "2023-01-15T18:02:59.474675",
     "exception": false,
     "start_time": "2023-01-15T18:02:59.438729",
     "status": "completed"
    },
    "tags": []
   },
   "outputs": [
    {
     "data": {
      "application/javascript": [
       "parent.postMessage({\"jupyterEvent\": \"custom.exercise_interaction\", \"data\": {\"outcomeType\": 1, \"valueTowardsCompletion\": 0.2, \"interactionType\": 1, \"questionType\": 2, \"questionId\": \"4_Q4\", \"learnToolsVersion\": \"0.3.4\", \"failureMessage\": \"\", \"exceptionClass\": \"\", \"trace\": \"\"}}, \"*\")"
      ],
      "text/plain": [
       "<IPython.core.display.Javascript object>"
      ]
     },
     "metadata": {},
     "output_type": "display_data"
    },
    {
     "data": {
      "text/markdown": [
       "<span style=\"color:#33cc33\">Correct</span>"
      ],
      "text/plain": [
       "Correct"
      ]
     },
     "metadata": {},
     "output_type": "display_data"
    }
   ],
   "source": [
    "X_4 = pd.DataFrame()\n",
    "\n",
    "# YOUR CODE HERE\n",
    "X_4[\"MSClass\"] = df.MSSubClass.str.split(\"_\", n=1, expand=True)[0]\n",
    "\n",
    "# Check your answer\n",
    "q_4.check()"
   ]
  },
  {
   "cell_type": "code",
   "execution_count": 10,
   "id": "a29f984d",
   "metadata": {
    "execution": {
     "iopub.execute_input": "2023-01-15T18:02:59.490078Z",
     "iopub.status.busy": "2023-01-15T18:02:59.489674Z",
     "iopub.status.idle": "2023-01-15T18:02:59.494304Z",
     "shell.execute_reply": "2023-01-15T18:02:59.493175Z"
    },
    "lines_to_next_cell": 0,
    "papermill": {
     "duration": 0.015513,
     "end_time": "2023-01-15T18:02:59.496862",
     "exception": false,
     "start_time": "2023-01-15T18:02:59.481349",
     "status": "completed"
    },
    "tags": []
   },
   "outputs": [],
   "source": [
    "# Lines below will give you a hint or solution code\n",
    "#q_4.hint()\n",
    "#q_4.solution()"
   ]
  },
  {
   "cell_type": "markdown",
   "id": "3fa7a899",
   "metadata": {
    "papermill": {
     "duration": 0.00658,
     "end_time": "2023-01-15T18:02:59.510229",
     "exception": false,
     "start_time": "2023-01-15T18:02:59.503649",
     "status": "completed"
    },
    "tags": []
   },
   "source": [
    "# 5) Use a Grouped Transform\n",
    "\n",
    "The value of a home often depends on how it compares to typical homes in its neighborhood. Create a feature `MedNhbdArea` that describes the *median* of `GrLivArea` grouped on `Neighborhood`."
   ]
  },
  {
   "cell_type": "code",
   "execution_count": 11,
   "id": "4a82ca43",
   "metadata": {
    "execution": {
     "iopub.execute_input": "2023-01-15T18:02:59.525508Z",
     "iopub.status.busy": "2023-01-15T18:02:59.525064Z",
     "iopub.status.idle": "2023-01-15T18:02:59.544698Z",
     "shell.execute_reply": "2023-01-15T18:02:59.543517Z"
    },
    "lines_to_next_cell": 0,
    "papermill": {
     "duration": 0.029865,
     "end_time": "2023-01-15T18:02:59.546825",
     "exception": false,
     "start_time": "2023-01-15T18:02:59.516960",
     "status": "completed"
    },
    "tags": []
   },
   "outputs": [
    {
     "data": {
      "application/javascript": [
       "parent.postMessage({\"jupyterEvent\": \"custom.exercise_interaction\", \"data\": {\"outcomeType\": 1, \"valueTowardsCompletion\": 0.2, \"interactionType\": 1, \"questionType\": 2, \"questionId\": \"5_Q5\", \"learnToolsVersion\": \"0.3.4\", \"failureMessage\": \"\", \"exceptionClass\": \"\", \"trace\": \"\"}}, \"*\")"
      ],
      "text/plain": [
       "<IPython.core.display.Javascript object>"
      ]
     },
     "metadata": {},
     "output_type": "display_data"
    },
    {
     "data": {
      "text/markdown": [
       "<span style=\"color:#33cc33\">Correct</span>"
      ],
      "text/plain": [
       "Correct"
      ]
     },
     "metadata": {},
     "output_type": "display_data"
    }
   ],
   "source": [
    "X_5 = pd.DataFrame()\n",
    "\n",
    "# YOUR CODE HERE\n",
    "X_5[\"MedNhbdArea\"] = df.groupby(\"Neighborhood\")[\"GrLivArea\"].transform(\"median\")\n",
    "\n",
    "# Check your answer\n",
    "q_5.check()"
   ]
  },
  {
   "cell_type": "code",
   "execution_count": 12,
   "id": "aafbc45d",
   "metadata": {
    "execution": {
     "iopub.execute_input": "2023-01-15T18:02:59.562260Z",
     "iopub.status.busy": "2023-01-15T18:02:59.561585Z",
     "iopub.status.idle": "2023-01-15T18:02:59.566340Z",
     "shell.execute_reply": "2023-01-15T18:02:59.565212Z"
    },
    "lines_to_next_cell": 0,
    "papermill": {
     "duration": 0.015069,
     "end_time": "2023-01-15T18:02:59.568662",
     "exception": false,
     "start_time": "2023-01-15T18:02:59.553593",
     "status": "completed"
    },
    "tags": []
   },
   "outputs": [],
   "source": [
    "# Lines below will give you a hint or solution code\n",
    "#q_5.hint()\n",
    "#q_5.solution()"
   ]
  },
  {
   "cell_type": "markdown",
   "id": "f3d7da7e",
   "metadata": {
    "papermill": {
     "duration": 0.006709,
     "end_time": "2023-01-15T18:02:59.582849",
     "exception": false,
     "start_time": "2023-01-15T18:02:59.576140",
     "status": "completed"
    },
    "tags": []
   },
   "source": [
    "Now you've made your first new feature set! If you like, you can run the cell below to score the model with all of your new features added:"
   ]
  },
  {
   "cell_type": "code",
   "execution_count": 13,
   "id": "ba50008a",
   "metadata": {
    "execution": {
     "iopub.execute_input": "2023-01-15T18:02:59.598509Z",
     "iopub.status.busy": "2023-01-15T18:02:59.598119Z",
     "iopub.status.idle": "2023-01-15T18:03:05.610264Z",
     "shell.execute_reply": "2023-01-15T18:03:05.609149Z"
    },
    "papermill": {
     "duration": 6.023424,
     "end_time": "2023-01-15T18:03:05.613120",
     "exception": false,
     "start_time": "2023-01-15T18:02:59.589696",
     "status": "completed"
    },
    "tags": []
   },
   "outputs": [
    {
     "data": {
      "text/plain": [
       "0.13847331710099203"
      ]
     },
     "execution_count": 13,
     "metadata": {},
     "output_type": "execute_result"
    }
   ],
   "source": [
    "X_new = X.join([X_1, X_2, X_3, X_4, X_5])\n",
    "score_dataset(X_new, y)"
   ]
  },
  {
   "cell_type": "markdown",
   "id": "5aab7342",
   "metadata": {
    "papermill": {
     "duration": 0.006852,
     "end_time": "2023-01-15T18:03:05.628575",
     "exception": false,
     "start_time": "2023-01-15T18:03:05.621723",
     "status": "completed"
    },
    "tags": []
   },
   "source": [
    "# Keep Going #\n",
    "\n",
    "[**Untangle spatial relationships**](https://www.kaggle.com/ryanholbrook/clustering-with-k-means) by adding cluster labels to your dataset."
   ]
  },
  {
   "cell_type": "markdown",
   "id": "0a402bdf",
   "metadata": {
    "papermill": {
     "duration": 0.006646,
     "end_time": "2023-01-15T18:03:05.642259",
     "exception": false,
     "start_time": "2023-01-15T18:03:05.635613",
     "status": "completed"
    },
    "tags": []
   },
   "source": [
    "---\n",
    "\n",
    "\n",
    "\n",
    "\n",
    "*Have questions or comments? Visit the [course discussion forum](https://www.kaggle.com/learn/feature-engineering/discussion) to chat with other learners.*"
   ]
  }
 ],
 "metadata": {
  "kernelspec": {
   "display_name": "Python 3",
   "language": "python",
   "name": "python3"
  },
  "language_info": {
   "codemirror_mode": {
    "name": "ipython",
    "version": 3
   },
   "file_extension": ".py",
   "mimetype": "text/x-python",
   "name": "python",
   "nbconvert_exporter": "python",
   "pygments_lexer": "ipython3",
   "version": "3.7.12"
  },
  "papermill": {
   "default_parameters": {},
   "duration": 17.046649,
   "end_time": "2023-01-15T18:03:06.474925",
   "environment_variables": {},
   "exception": null,
   "input_path": "__notebook__.ipynb",
   "output_path": "__notebook__.ipynb",
   "parameters": {},
   "start_time": "2023-01-15T18:02:49.428276",
   "version": "2.3.4"
  }
 },
 "nbformat": 4,
 "nbformat_minor": 5
}
